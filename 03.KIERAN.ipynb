{
 "cells": [
  {
   "cell_type": "code",
   "execution_count": 5,
   "id": "c1effdd4",
   "metadata": {},
   "outputs": [],
   "source": [
    "import pandas as pd\n",
    "import os\n"
   ]
  },
  {
   "cell_type": "code",
   "execution_count": 16,
   "id": "308a80dc",
   "metadata": {},
   "outputs": [
    {
     "data": {
      "text/plain": [
       "Index(['year', 'price', 'price_log', 'mileage', 'mileage_log', 'mpg',\n",
       "       'mpg_log', 'engineSize', 'engineSize_log', 'fuelType_Electric',\n",
       "       'fuelType_Other', 'fuelType_Hybrid', 'fuelType_Petrol',\n",
       "       'transmission_Semi-Auto', 'transmission_Other', 'transmission_Manual'],\n",
       "      dtype='object')"
      ]
     },
     "execution_count": 16,
     "metadata": {},
     "output_type": "execute_result"
    }
   ],
   "source": [
    "combined_df = pd.read_csv(r\"data\\modified\\MASTER_df_ready_for_regression.csv\")\n",
    "combined_df = pd.DataFrame(combined_df)\n",
    "combined_df = combined_df.drop(columns=['Unnamed: 0', 'country', 'brand', 'transmission', 'fuelType', 'model','tax',\n",
    "       'tax_log', 'brand_Vauxhall','brand_Mercedes-Benz','brand_Skoda', 'brand_Volkswagen','brand_BMW',\n",
    "       'brand_Toyota', 'brand_Ford', 'brand_Hyundai'])\n",
    "combined_df.columns"
   ]
  },
  {
   "cell_type": "code",
   "execution_count": 17,
   "id": "50d75477",
   "metadata": {},
   "outputs": [],
   "source": [
    "# Calculate the correlation matrix\n",
    "correlation_matrix = combined_df.corr()\n",
    "\n",
    "# Create a DataFrame to store the results\n",
    "correlation_df = pd.DataFrame(columns=[\"ColumnHeader1\", \"Correlation Coefficient\", \"ColumnHeader2\"])\n",
    "\n",
    "# Iterate through the correlation matrix and extract the relevant information\n",
    "for column1 in correlation_matrix.columns:\n",
    "    for column2 in correlation_matrix.index:\n",
    "        if column1 != column2:  # Exclude correlations of a column with itself\n",
    "            corr_coefficient = correlation_matrix.at[column2, column1]\n",
    "            correlation_df = correlation_df.append({\"ColumnHeader1\": column1, \"Correlation Coefficient\": corr_coefficient, \"ColumnHeader2\": column2}, ignore_index=True)\n",
    "\n",
    "# Save the DataFrame to a CSV file\n",
    "correlation_df.to_csv(\"data/modified\\MASTER_df_ready_for_regression_correlation_matrix.csv\", index=False)"
   ]
  }
 ],
 "metadata": {
  "kernelspec": {
   "display_name": "Python 3",
   "language": "python",
   "name": "python3"
  },
  "language_info": {
   "codemirror_mode": {
    "name": "ipython",
    "version": 3
   },
   "file_extension": ".py",
   "mimetype": "text/x-python",
   "name": "python",
   "nbconvert_exporter": "python",
   "pygments_lexer": "ipython3",
   "version": "3.8.13"
  }
 },
 "nbformat": 4,
 "nbformat_minor": 5
}
