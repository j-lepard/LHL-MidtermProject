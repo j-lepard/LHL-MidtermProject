{
 "cells": [
  {
   "cell_type": "code",
   "execution_count": 10,
   "id": "c1effdd4",
   "metadata": {},
   "outputs": [
    {
     "data": {
      "text/plain": [
       "<_io.TextIOWrapper name='./data/audi.csv' mode='r' encoding='utf-8'>"
      ]
     },
     "execution_count": 10,
     "metadata": {},
     "output_type": "execute_result"
    }
   ],
   "source": [
    "import pandas as pd\n",
    "import os\n"
   ]
  },
  {
   "cell_type": "code",
   "execution_count": 7,
   "id": "12620252",
   "metadata": {},
   "outputs": [],
   "source": [
    "\n",
    "\n",
    "combined_df = pd.read_csv(r\"data/modified/combined_used_car_data.csv\")\n",
    "combined_df = pd.DataFrame(combined_df)\n",
    "\n"
   ]
  },
  {
   "cell_type": "code",
   "execution_count": 9,
   "id": "50d75477",
   "metadata": {},
   "outputs": [],
   "source": [
    "# Calculate the correlation matrix\n",
    "correlation_matrix = combined_df.corr()\n",
    "\n",
    "# Create a DataFrame to store the results\n",
    "correlation_df = pd.DataFrame(columns=[\"ColumnHeader1\", \"Correlation Coefficient\", \"ColumnHeader2\"])\n",
    "\n",
    "# Iterate through the correlation matrix and extract the relevant information\n",
    "for column1 in correlation_matrix.columns:\n",
    "    for column2 in correlation_matrix.index:\n",
    "        if column1 != column2:  # Exclude correlations of a column with itself\n",
    "            corr_coefficient = correlation_matrix.at[column2, column1]\n",
    "            correlation_df = correlation_df.append({\"ColumnHeader1\": column1, \"Correlation Coefficient\": corr_coefficient, \"ColumnHeader2\": column2}, ignore_index=True)\n",
    "\n",
    "# Save the DataFrame to a CSV file\n",
    "correlation_df.to_csv(\"data/modified/combined_used_car_data_correlation_matrix.csv\", index=False)"
   ]
  }
 ],
 "metadata": {
  "kernelspec": {
   "display_name": "Python 3",
   "language": "python",
   "name": "python3"
  },
  "language_info": {
   "codemirror_mode": {
    "name": "ipython",
    "version": 3
   },
   "file_extension": ".py",
   "mimetype": "text/x-python",
   "name": "python",
   "nbconvert_exporter": "python",
   "pygments_lexer": "ipython3",
   "version": "3.8.13"
  }
 },
 "nbformat": 4,
 "nbformat_minor": 5
}
